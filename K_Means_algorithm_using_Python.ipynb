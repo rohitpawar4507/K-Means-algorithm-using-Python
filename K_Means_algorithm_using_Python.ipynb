{
  "nbformat": 4,
  "nbformat_minor": 0,
  "metadata": {
    "colab": {
      "name": "K-Means algorithm using Python.ipynb",
      "provenance": [],
      "collapsed_sections": [],
      "authorship_tag": "ABX9TyNfaIpyUvwC/i7JM98YB7aP",
      "include_colab_link": true
    },
    "kernelspec": {
      "name": "python3",
      "display_name": "Python 3"
    },
    "language_info": {
      "name": "python"
    }
  },
  "cells": [
    {
      "cell_type": "markdown",
      "metadata": {
        "id": "view-in-github",
        "colab_type": "text"
      },
      "source": [
        "<a href=\"https://colab.research.google.com/github/rohitpawar4507/K-Means-algorithm-using-Python/blob/main/K_Means_algorithm_using_Python.ipynb\" target=\"_parent\"><img src=\"https://colab.research.google.com/assets/colab-badge.svg\" alt=\"Open In Colab\"/></a>"
      ]
    },
    {
      "cell_type": "markdown",
      "source": [
        "**K-Means algorithm using Python**"
      ],
      "metadata": {
        "id": "p83QsbQ32LAJ"
      }
    },
    {
      "cell_type": "code",
      "source": [
        "from sklearn.cluster import KMeans\n",
        "import pandas as pd\n",
        "from sklearn.preprocessing import MinMaxScaler\n",
        "from matplotlib import pyplot as plt\n",
        "%matplotlib inline"
      ],
      "metadata": {
        "id": "BZC3sGO52M3G"
      },
      "execution_count": 1,
      "outputs": []
    },
    {
      "cell_type": "markdown",
      "source": [
        "**1. Read Training Data**\n",
        "\n",
        "Using pandas to read the file"
      ],
      "metadata": {
        "id": "px0wKaNR21JN"
      }
    },
    {
      "cell_type": "code",
      "source": [
        "df = pd.read_csv(\"data.csv\")\n",
        "df.head()"
      ],
      "metadata": {
        "colab": {
          "base_uri": "https://localhost:8080/",
          "height": 348
        },
        "id": "JLiotTK02PZU",
        "outputId": "ce6b6595-0956-4a2c-a31e-464001c085e1"
      },
      "execution_count": 11,
      "outputs": [
        {
          "output_type": "execute_result",
          "data": {
            "text/html": [
              "<div>\n",
              "<style scoped>\n",
              "    .dataframe tbody tr th:only-of-type {\n",
              "        vertical-align: middle;\n",
              "    }\n",
              "\n",
              "    .dataframe tbody tr th {\n",
              "        vertical-align: top;\n",
              "    }\n",
              "\n",
              "    .dataframe thead th {\n",
              "        text-align: right;\n",
              "    }\n",
              "</style>\n",
              "<table border=\"1\" class=\"dataframe\">\n",
              "  <thead>\n",
              "    <tr style=\"text-align: right;\">\n",
              "      <th></th>\n",
              "      <th>year</th>\n",
              "      <th>rank</th>\n",
              "      <th>name</th>\n",
              "      <th>sector</th>\n",
              "      <th>industry</th>\n",
              "      <th>revenues</th>\n",
              "      <th>revchange</th>\n",
              "      <th>profits</th>\n",
              "      <th>prftchange</th>\n",
              "      <th>assets</th>\n",
              "      <th>employees</th>\n",
              "      <th>hqcity</th>\n",
              "      <th>hqstate</th>\n",
              "      <th>newcomer</th>\n",
              "      <th>profitable</th>\n",
              "      <th>ceowoman</th>\n",
              "      <th>jobgrowth</th>\n",
              "      <th>permalink</th>\n",
              "    </tr>\n",
              "  </thead>\n",
              "  <tbody>\n",
              "    <tr>\n",
              "      <th>0</th>\n",
              "      <td>2019</td>\n",
              "      <td>1.0</td>\n",
              "      <td>Walmart</td>\n",
              "      <td>Retailing</td>\n",
              "      <td>General Merchandisers</td>\n",
              "      <td>514405.0</td>\n",
              "      <td>2.8</td>\n",
              "      <td>6670.0</td>\n",
              "      <td>-32.4</td>\n",
              "      <td>219295.0</td>\n",
              "      <td>2200000</td>\n",
              "      <td>Bentonville</td>\n",
              "      <td>Arkansas</td>\n",
              "      <td>no</td>\n",
              "      <td>yes</td>\n",
              "      <td>no</td>\n",
              "      <td>no</td>\n",
              "      <td>https://fortune.com/global500/2019/walmart/</td>\n",
              "    </tr>\n",
              "    <tr>\n",
              "      <th>1</th>\n",
              "      <td>2019</td>\n",
              "      <td>2.0</td>\n",
              "      <td>Sinopec Group</td>\n",
              "      <td>Energy</td>\n",
              "      <td>Petroleum Refining</td>\n",
              "      <td>414649.9</td>\n",
              "      <td>26.8</td>\n",
              "      <td>5845.0</td>\n",
              "      <td>280.1</td>\n",
              "      <td>329186.3</td>\n",
              "      <td>619151</td>\n",
              "      <td>Beijing</td>\n",
              "      <td>NaN</td>\n",
              "      <td>no</td>\n",
              "      <td>yes</td>\n",
              "      <td>no</td>\n",
              "      <td>no</td>\n",
              "      <td>https://fortune.com/global500/2019/sinopec-group/</td>\n",
              "    </tr>\n",
              "    <tr>\n",
              "      <th>2</th>\n",
              "      <td>2019</td>\n",
              "      <td>3.0</td>\n",
              "      <td>Royal Dutch Shell</td>\n",
              "      <td>Energy</td>\n",
              "      <td>Petroleum Refining</td>\n",
              "      <td>396556.0</td>\n",
              "      <td>27.2</td>\n",
              "      <td>23352.0</td>\n",
              "      <td>79.9</td>\n",
              "      <td>399194.0</td>\n",
              "      <td>81000</td>\n",
              "      <td>The Hague</td>\n",
              "      <td>NaN</td>\n",
              "      <td>no</td>\n",
              "      <td>yes</td>\n",
              "      <td>no</td>\n",
              "      <td>no</td>\n",
              "      <td>https://fortune.com/global500/2019/royal-dutch...</td>\n",
              "    </tr>\n",
              "    <tr>\n",
              "      <th>3</th>\n",
              "      <td>2019</td>\n",
              "      <td>4.0</td>\n",
              "      <td>China National Petroleum</td>\n",
              "      <td>Energy</td>\n",
              "      <td>Petroleum Refining</td>\n",
              "      <td>392976.6</td>\n",
              "      <td>20.5</td>\n",
              "      <td>2270.5</td>\n",
              "      <td>NaN</td>\n",
              "      <td>601899.9</td>\n",
              "      <td>1382401</td>\n",
              "      <td>Beijing</td>\n",
              "      <td>NaN</td>\n",
              "      <td>no</td>\n",
              "      <td>yes</td>\n",
              "      <td>no</td>\n",
              "      <td>no</td>\n",
              "      <td>https://fortune.com/global500/2019/china-natio...</td>\n",
              "    </tr>\n",
              "    <tr>\n",
              "      <th>4</th>\n",
              "      <td>2019</td>\n",
              "      <td>5.0</td>\n",
              "      <td>State Grid</td>\n",
              "      <td>Energy</td>\n",
              "      <td>Utilities</td>\n",
              "      <td>387056.0</td>\n",
              "      <td>10.9</td>\n",
              "      <td>8174.8</td>\n",
              "      <td>-14.3</td>\n",
              "      <td>572309.5</td>\n",
              "      <td>917717</td>\n",
              "      <td>Beijing</td>\n",
              "      <td>NaN</td>\n",
              "      <td>no</td>\n",
              "      <td>yes</td>\n",
              "      <td>no</td>\n",
              "      <td>yes</td>\n",
              "      <td>https://fortune.com/global500/2019/state-grid/</td>\n",
              "    </tr>\n",
              "  </tbody>\n",
              "</table>\n",
              "</div>"
            ],
            "text/plain": [
              "   year  rank  ... jobgrowth                                          permalink\n",
              "0  2019   1.0  ...        no        https://fortune.com/global500/2019/walmart/\n",
              "1  2019   2.0  ...        no  https://fortune.com/global500/2019/sinopec-group/\n",
              "2  2019   3.0  ...        no  https://fortune.com/global500/2019/royal-dutch...\n",
              "3  2019   4.0  ...        no  https://fortune.com/global500/2019/china-natio...\n",
              "4  2019   5.0  ...       yes     https://fortune.com/global500/2019/state-grid/\n",
              "\n",
              "[5 rows x 18 columns]"
            ]
          },
          "metadata": {},
          "execution_count": 11
        }
      ]
    },
    {
      "cell_type": "markdown",
      "source": [
        "***Apply Scatter plot to visualize after reading data to check each row ***"
      ],
      "metadata": {
        "id": "_fMxvKuT3BhM"
      }
    },
    {
      "cell_type": "code",
      "source": [
        "plt.scatter(df.profits,df['revenues'])\n",
        "plt.xlabel('profits\t')\n",
        "plt.ylabel('revenues')"
      ],
      "metadata": {
        "colab": {
          "base_uri": "https://localhost:8080/",
          "height": 368
        },
        "id": "UGzRO35j6kCz",
        "outputId": "126b6038-d2ba-47fa-ab4e-11b207c70b2b"
      },
      "execution_count": 24,
      "outputs": [
        {
          "output_type": "execute_result",
          "data": {
            "text/plain": [
              "Text(0, 0.5, 'revenues')"
            ]
          },
          "metadata": {},
          "execution_count": 24
        },
        {
          "output_type": "stream",
          "name": "stderr",
          "text": [
            "/usr/local/lib/python3.7/dist-packages/matplotlib/backends/backend_agg.py:214: RuntimeWarning: Glyph 9 missing from current font.\n",
            "  font.set_text(s, 0.0, flags=flags)\n",
            "/usr/local/lib/python3.7/dist-packages/matplotlib/backends/backend_agg.py:183: RuntimeWarning: Glyph 9 missing from current font.\n",
            "  font.set_text(s, 0, flags=flags)\n"
          ]
        },
        {
          "output_type": "display_data",
          "data": {
            "image/png": "[encoded data removed]",
            "text/plain": [
              "<Figure size 432x288 with 1 Axes>"
            ]
          },
          "metadata": {
            "needs_background": "light"
          }
        }
      ]
    },
    {
      "cell_type": "code",
      "source": [
        "# Encode Categorical Values"
      ],
      "metadata": {
        "id": "QwA-m40L8Nah"
      },
      "execution_count": 25,
      "outputs": []
    },
    {
      "cell_type": "code",
      "source": [
        "km = KMeans(n_clusters=3)\n",
        "y_predicted = km.fit_predict(df[['year','rank']])\n",
        "y_predicted"
      ],
      "metadata": {
        "colab": {
          "base_uri": "https://localhost:8080/"
        },
        "id": "Rl8-AZep9AFY",
        "outputId": "50b30f16-1478-4c54-c445-74d0b3f02695"
      },
      "execution_count": 29,
      "outputs": [
        {
          "output_type": "execute_result",
          "data": {
            "text/plain": [
              "array([0, 0, 0, ..., 1, 1, 1], dtype=int32)"
            ]
          },
          "metadata": {},
          "execution_count": 29
        }
      ]
    },
    {
      "cell_type": "code",
      "source": [
        "df['cluster']=y_predicted\n",
        "df.head()"
      ],
      "metadata": {
        "colab": {
          "base_uri": "https://localhost:8080/",
          "height": 348
        },
        "id": "_QTJyBN49xtQ",
        "outputId": "e0036e45-3609-4c82-b6e5-faba303371ab"
      },
      "execution_count": 33,
      "outputs": [
        {
          "output_type": "execute_result",
          "data": {
            "text/html": [
              "<div>\n",
              "<style scoped>\n",
              "    .dataframe tbody tr th:only-of-type {\n",
              "        vertical-align: middle;\n",
              "    }\n",
              "\n",
              "    .dataframe tbody tr th {\n",
              "        vertical-align: top;\n",
              "    }\n",
              "\n",
              "    .dataframe thead th {\n",
              "        text-align: right;\n",
              "    }\n",
              "</style>\n",
              "<table border=\"1\" class=\"dataframe\">\n",
              "  <thead>\n",
              "    <tr style=\"text-align: right;\">\n",
              "      <th></th>\n",
              "      <th>year</th>\n",
              "      <th>rank</th>\n",
              "      <th>name</th>\n",
              "      <th>sector</th>\n",
              "      <th>industry</th>\n",
              "      <th>revenues</th>\n",
              "      <th>revchange</th>\n",
              "      <th>profits</th>\n",
              "      <th>prftchange</th>\n",
              "      <th>assets</th>\n",
              "      <th>employees</th>\n",
              "      <th>hqcity</th>\n",
              "      <th>hqstate</th>\n",
              "      <th>newcomer</th>\n",
              "      <th>profitable</th>\n",
              "      <th>ceowoman</th>\n",
              "      <th>jobgrowth</th>\n",
              "      <th>permalink</th>\n",
              "      <th>cluster</th>\n",
              "    </tr>\n",
              "  </thead>\n",
              "  <tbody>\n",
              "    <tr>\n",
              "      <th>0</th>\n",
              "      <td>2019</td>\n",
              "      <td>1.0</td>\n",
              "      <td>Walmart</td>\n",
              "      <td>Retailing</td>\n",
              "      <td>General Merchandisers</td>\n",
              "      <td>514405.0</td>\n",
              "      <td>2.8</td>\n",
              "      <td>6670.0</td>\n",
              "      <td>-32.4</td>\n",
              "      <td>219295.0</td>\n",
              "      <td>2200000</td>\n",
              "      <td>Bentonville</td>\n",
              "      <td>Arkansas</td>\n",
              "      <td>no</td>\n",
              "      <td>yes</td>\n",
              "      <td>no</td>\n",
              "      <td>no</td>\n",
              "      <td>https://fortune.com/global500/2019/walmart/</td>\n",
              "      <td>0</td>\n",
              "    </tr>\n",
              "    <tr>\n",
              "      <th>1</th>\n",
              "      <td>2019</td>\n",
              "      <td>2.0</td>\n",
              "      <td>Sinopec Group</td>\n",
              "      <td>Energy</td>\n",
              "      <td>Petroleum Refining</td>\n",
              "      <td>414649.9</td>\n",
              "      <td>26.8</td>\n",
              "      <td>5845.0</td>\n",
              "      <td>280.1</td>\n",
              "      <td>329186.3</td>\n",
              "      <td>619151</td>\n",
              "      <td>Beijing</td>\n",
              "      <td>NaN</td>\n",
              "      <td>no</td>\n",
              "      <td>yes</td>\n",
              "      <td>no</td>\n",
              "      <td>no</td>\n",
              "      <td>https://fortune.com/global500/2019/sinopec-group/</td>\n",
              "      <td>0</td>\n",
              "    </tr>\n",
              "    <tr>\n",
              "      <th>2</th>\n",
              "      <td>2019</td>\n",
              "      <td>3.0</td>\n",
              "      <td>Royal Dutch Shell</td>\n",
              "      <td>Energy</td>\n",
              "      <td>Petroleum Refining</td>\n",
              "      <td>396556.0</td>\n",
              "      <td>27.2</td>\n",
              "      <td>23352.0</td>\n",
              "      <td>79.9</td>\n",
              "      <td>399194.0</td>\n",
              "      <td>81000</td>\n",
              "      <td>The Hague</td>\n",
              "      <td>NaN</td>\n",
              "      <td>no</td>\n",
              "      <td>yes</td>\n",
              "      <td>no</td>\n",
              "      <td>no</td>\n",
              "      <td>https://fortune.com/global500/2019/royal-dutch...</td>\n",
              "      <td>0</td>\n",
              "    </tr>\n",
              "    <tr>\n",
              "      <th>3</th>\n",
              "      <td>2019</td>\n",
              "      <td>4.0</td>\n",
              "      <td>China National Petroleum</td>\n",
              "      <td>Energy</td>\n",
              "      <td>Petroleum Refining</td>\n",
              "      <td>392976.6</td>\n",
              "      <td>20.5</td>\n",
              "      <td>2270.5</td>\n",
              "      <td>NaN</td>\n",
              "      <td>601899.9</td>\n",
              "      <td>1382401</td>\n",
              "      <td>Beijing</td>\n",
              "      <td>NaN</td>\n",
              "      <td>no</td>\n",
              "      <td>yes</td>\n",
              "      <td>no</td>\n",
              "      <td>no</td>\n",
              "      <td>https://fortune.com/global500/2019/china-natio...</td>\n",
              "      <td>0</td>\n",
              "    </tr>\n",
              "    <tr>\n",
              "      <th>4</th>\n",
              "      <td>2019</td>\n",
              "      <td>5.0</td>\n",
              "      <td>State Grid</td>\n",
              "      <td>Energy</td>\n",
              "      <td>Utilities</td>\n",
              "      <td>387056.0</td>\n",
              "      <td>10.9</td>\n",
              "      <td>8174.8</td>\n",
              "      <td>-14.3</td>\n",
              "      <td>572309.5</td>\n",
              "      <td>917717</td>\n",
              "      <td>Beijing</td>\n",
              "      <td>NaN</td>\n",
              "      <td>no</td>\n",
              "      <td>yes</td>\n",
              "      <td>no</td>\n",
              "      <td>yes</td>\n",
              "      <td>https://fortune.com/global500/2019/state-grid/</td>\n",
              "      <td>0</td>\n",
              "    </tr>\n",
              "  </tbody>\n",
              "</table>\n",
              "</div>"
            ],
            "text/plain": [
              "   year  rank  ...                                          permalink cluster\n",
              "0  2019   1.0  ...        https://fortune.com/global500/2019/walmart/       0\n",
              "1  2019   2.0  ...  https://fortune.com/global500/2019/sinopec-group/       0\n",
              "2  2019   3.0  ...  https://fortune.com/global500/2019/royal-dutch...       0\n",
              "3  2019   4.0  ...  https://fortune.com/global500/2019/china-natio...       0\n",
              "4  2019   5.0  ...     https://fortune.com/global500/2019/state-grid/       0\n",
              "\n",
              "[5 rows x 19 columns]"
            ]
          },
          "metadata": {},
          "execution_count": 33
        }
      ]
    },
    {
      "cell_type": "code",
      "source": [
        "km.cluster_centers_"
      ],
      "metadata": {
        "colab": {
          "base_uri": "https://localhost:8080/"
        },
        "id": "_GzjOquD-lZl",
        "outputId": "1698ba73-9a55-459d-8066-ec2663fa6707"
      },
      "execution_count": 34,
      "outputs": [
        {
          "output_type": "execute_result",
          "data": {
            "text/plain": [
              "array([[2020.        ,   83.        ],\n",
              "       [2020.        ,  416.07952286],\n",
              "       [2020.        ,  249.03386454]])"
            ]
          },
          "metadata": {},
          "execution_count": 34
        }
      ]
    },
    {
      "cell_type": "code",
      "source": [
        "plt.plot(km.cluster_centers_)"
      ],
      "metadata": {
        "colab": {
          "base_uri": "https://localhost:8080/",
          "height": 300
        },
        "id": "uT_en74K-pl9",
        "outputId": "6d3d3ce2-2f81-49af-88eb-00c8f3c50d5b"
      },
      "execution_count": 35,
      "outputs": [
        {
          "output_type": "execute_result",
          "data": {
            "text/plain": [
              "[<matplotlib.lines.Line2D at 0x7f54d0264310>,\n",
              " <matplotlib.lines.Line2D at 0x7f54d0264550>]"
            ]
          },
          "metadata": {},
          "execution_count": 35
        },
        {
          "output_type": "display_data",
          "data": {
            "image/png": "[encoded data removed]",
            "text/plain": [
              "<Figure size 432x288 with 1 Axes>"
            ]
          },
          "metadata": {
            "needs_background": "light"
          }
        }
      ]
    },
    {
      "cell_type": "code",
      "source": [
        "df1 = df[df.cluster==0]\n",
        "df2 = df[df.cluster==1]\n",
        "df3 = df[df.cluster==2]\n",
        "plt.scatter(df1.year,df1['profits'],color='green')\n",
        "plt.scatter(df2.year,df2['profits'],color='red')\n",
        "plt.scatter(df3.year,df3['profits'],color='black')\n",
        "plt.scatter(km.cluster_centers_[:,0],km.cluster_centers_[:,1],color='purple',marker='*',label='centroid')\n",
        "plt.xlabel('year')\n",
        "plt.ylabel('profits')\n",
        "plt.legend()"
      ],
      "metadata": {
        "colab": {
          "base_uri": "https://localhost:8080/",
          "height": 296
        },
        "id": "vPpH5SWf-sqe",
        "outputId": "b5515965-c9aa-4895-e1fb-f2e4b684aa8b"
      },
      "execution_count": 39,
      "outputs": [
        {
          "output_type": "execute_result",
          "data": {
            "text/plain": [
              "<matplotlib.legend.Legend at 0x7f54cedfacd0>"
            ]
          },
          "metadata": {},
          "execution_count": 39
        },
        {
          "output_type": "display_data",
          "data": {
            "image/png": "[encoded data removed]",
            "text/plain": [
              "<Figure size 432x288 with 1 Axes>"
            ]
          },
          "metadata": {
            "needs_background": "light"
          }
        }
      ]
    },
    {
      "cell_type": "markdown",
      "source": [
        "**Preprocessing using min max scaler**"
      ],
      "metadata": {
        "id": "46CDn0PH__yl"
      }
    },
    {
      "cell_type": "code",
      "source": [
        "scaler = MinMaxScaler()\n",
        "\n",
        "scaler.fit(df[['revenues']])\n",
        "df['revenues'] = scaler.transform(df[['revenues']])\n",
        "\n",
        "scaler.fit(df[['profits']])\n",
        "df['profits'] = scaler.transform(df[['profits']])"
      ],
      "metadata": {
        "id": "59NaUbI_ABWx"
      },
      "execution_count": 40,
      "outputs": []
    },
    {
      "cell_type": "code",
      "source": [
        "df.head()"
      ],
      "metadata": {
        "colab": {
          "base_uri": "https://localhost:8080/",
          "height": 348
        },
        "id": "lNn2ykJY_V4S",
        "outputId": "32f5544d-c1c7-4efb-d978-49fe769c91cd"
      },
      "execution_count": 41,
      "outputs": [
        {
          "output_type": "execute_result",
          "data": {
            "text/html": [
              "<div>\n",
              "<style scoped>\n",
              "    .dataframe tbody tr th:only-of-type {\n",
              "        vertical-align: middle;\n",
              "    }\n",
              "\n",
              "    .dataframe tbody tr th {\n",
              "        vertical-align: top;\n",
              "    }\n",
              "\n",
              "    .dataframe thead th {\n",
              "        text-align: right;\n",
              "    }\n",
              "</style>\n",
              "<table border=\"1\" class=\"dataframe\">\n",
              "  <thead>\n",
              "    <tr style=\"text-align: right;\">\n",
              "      <th></th>\n",
              "      <th>year</th>\n",
              "      <th>rank</th>\n",
              "      <th>name</th>\n",
              "      <th>sector</th>\n",
              "      <th>industry</th>\n",
              "      <th>revenues</th>\n",
              "      <th>revchange</th>\n",
              "      <th>profits</th>\n",
              "      <th>prftchange</th>\n",
              "      <th>assets</th>\n",
              "      <th>employees</th>\n",
              "      <th>hqcity</th>\n",
              "      <th>hqstate</th>\n",
              "      <th>newcomer</th>\n",
              "      <th>profitable</th>\n",
              "      <th>ceowoman</th>\n",
              "      <th>jobgrowth</th>\n",
              "      <th>permalink</th>\n",
              "      <th>cluster</th>\n",
              "    </tr>\n",
              "  </thead>\n",
              "  <tbody>\n",
              "    <tr>\n",
              "      <th>0</th>\n",
              "      <td>2019</td>\n",
              "      <td>1.0</td>\n",
              "      <td>Walmart</td>\n",
              "      <td>Retailing</td>\n",
              "      <td>General Merchandisers</td>\n",
              "      <td>0.916379</td>\n",
              "      <td>2.8</td>\n",
              "      <td>0.225411</td>\n",
              "      <td>-32.4</td>\n",
              "      <td>219295.0</td>\n",
              "      <td>2200000</td>\n",
              "      <td>Bentonville</td>\n",
              "      <td>Arkansas</td>\n",
              "      <td>no</td>\n",
              "      <td>yes</td>\n",
              "      <td>no</td>\n",
              "      <td>no</td>\n",
              "      <td>https://fortune.com/global500/2019/walmart/</td>\n",
              "      <td>0</td>\n",
              "    </tr>\n",
              "    <tr>\n",
              "      <th>1</th>\n",
              "      <td>2019</td>\n",
              "      <td>2.0</td>\n",
              "      <td>Sinopec Group</td>\n",
              "      <td>Energy</td>\n",
              "      <td>Petroleum Refining</td>\n",
              "      <td>0.729959</td>\n",
              "      <td>26.8</td>\n",
              "      <td>0.219284</td>\n",
              "      <td>280.1</td>\n",
              "      <td>329186.3</td>\n",
              "      <td>619151</td>\n",
              "      <td>Beijing</td>\n",
              "      <td>NaN</td>\n",
              "      <td>no</td>\n",
              "      <td>yes</td>\n",
              "      <td>no</td>\n",
              "      <td>no</td>\n",
              "      <td>https://fortune.com/global500/2019/sinopec-group/</td>\n",
              "      <td>0</td>\n",
              "    </tr>\n",
              "    <tr>\n",
              "      <th>2</th>\n",
              "      <td>2019</td>\n",
              "      <td>3.0</td>\n",
              "      <td>Royal Dutch Shell</td>\n",
              "      <td>Energy</td>\n",
              "      <td>Petroleum Refining</td>\n",
              "      <td>0.696145</td>\n",
              "      <td>27.2</td>\n",
              "      <td>0.349295</td>\n",
              "      <td>79.9</td>\n",
              "      <td>399194.0</td>\n",
              "      <td>81000</td>\n",
              "      <td>The Hague</td>\n",
              "      <td>NaN</td>\n",
              "      <td>no</td>\n",
              "      <td>yes</td>\n",
              "      <td>no</td>\n",
              "      <td>no</td>\n",
              "      <td>https://fortune.com/global500/2019/royal-dutch...</td>\n",
              "      <td>0</td>\n",
              "    </tr>\n",
              "    <tr>\n",
              "      <th>3</th>\n",
              "      <td>2019</td>\n",
              "      <td>4.0</td>\n",
              "      <td>China National Petroleum</td>\n",
              "      <td>Energy</td>\n",
              "      <td>Petroleum Refining</td>\n",
              "      <td>0.689456</td>\n",
              "      <td>20.5</td>\n",
              "      <td>0.192739</td>\n",
              "      <td>NaN</td>\n",
              "      <td>601899.9</td>\n",
              "      <td>1382401</td>\n",
              "      <td>Beijing</td>\n",
              "      <td>NaN</td>\n",
              "      <td>no</td>\n",
              "      <td>yes</td>\n",
              "      <td>no</td>\n",
              "      <td>no</td>\n",
              "      <td>https://fortune.com/global500/2019/china-natio...</td>\n",
              "      <td>0</td>\n",
              "    </tr>\n",
              "    <tr>\n",
              "      <th>4</th>\n",
              "      <td>2019</td>\n",
              "      <td>5.0</td>\n",
              "      <td>State Grid</td>\n",
              "      <td>Energy</td>\n",
              "      <td>Utilities</td>\n",
              "      <td>0.678392</td>\n",
              "      <td>10.9</td>\n",
              "      <td>0.236586</td>\n",
              "      <td>-14.3</td>\n",
              "      <td>572309.5</td>\n",
              "      <td>917717</td>\n",
              "      <td>Beijing</td>\n",
              "      <td>NaN</td>\n",
              "      <td>no</td>\n",
              "      <td>yes</td>\n",
              "      <td>no</td>\n",
              "      <td>yes</td>\n",
              "      <td>https://fortune.com/global500/2019/state-grid/</td>\n",
              "      <td>0</td>\n",
              "    </tr>\n",
              "  </tbody>\n",
              "</table>\n",
              "</div>"
            ],
            "text/plain": [
              "   year  rank  ...                                          permalink cluster\n",
              "0  2019   1.0  ...        https://fortune.com/global500/2019/walmart/       0\n",
              "1  2019   2.0  ...  https://fortune.com/global500/2019/sinopec-group/       0\n",
              "2  2019   3.0  ...  https://fortune.com/global500/2019/royal-dutch...       0\n",
              "3  2019   4.0  ...  https://fortune.com/global500/2019/china-natio...       0\n",
              "4  2019   5.0  ...     https://fortune.com/global500/2019/state-grid/       0\n",
              "\n",
              "[5 rows x 19 columns]"
            ]
          },
          "metadata": {},
          "execution_count": 41
        }
      ]
    },
    {
      "cell_type": "code",
      "source": [
        "plt.scatter(df.profits,df['revenues'])"
      ],
      "metadata": {
        "colab": {
          "base_uri": "https://localhost:8080/",
          "height": 282
        },
        "id": "D4EAJ07WARts",
        "outputId": "1d5b3e80-b0d8-44f2-f903-47ae92aabde3"
      },
      "execution_count": 42,
      "outputs": [
        {
          "output_type": "execute_result",
          "data": {
            "text/plain": [
              "<matplotlib.collections.PathCollection at 0x7f54ced2eb90>"
            ]
          },
          "metadata": {},
          "execution_count": 42
        },
        {
          "output_type": "display_data",
          "data": {
            "image/png": "[encoded data removed]",
            "text/plain": [
              "<Figure size 432x288 with 1 Axes>"
            ]
          },
          "metadata": {
            "needs_background": "light"
          }
        }
      ]
    },
    {
      "cell_type": "code",
      "source": [
        "km = KMeans(n_clusters=3)\n",
        "y_predicted = km.fit_predict(df[['rank','year']])\n",
        "y_predicted"
      ],
      "metadata": {
        "colab": {
          "base_uri": "https://localhost:8080/"
        },
        "id": "0l1g-BItAYxl",
        "outputId": "194f8051-b9cf-47ed-85d1-3660ed0d1cce"
      },
      "execution_count": 45,
      "outputs": [
        {
          "output_type": "execute_result",
          "data": {
            "text/plain": [
              "array([2, 2, 2, ..., 1, 1, 1], dtype=int32)"
            ]
          },
          "metadata": {},
          "execution_count": 45
        }
      ]
    },
    {
      "cell_type": "code",
      "source": [
        "df['cluster']=y_predicted\n",
        "df.head()"
      ],
      "metadata": {
        "colab": {
          "base_uri": "https://localhost:8080/",
          "height": 348
        },
        "id": "f9OlI1WyAkt_",
        "outputId": "3cfac058-91a7-4f3a-cb3c-d30afced61e1"
      },
      "execution_count": 46,
      "outputs": [
        {
          "output_type": "execute_result",
          "data": {
            "text/html": [
              "<div>\n",
              "<style scoped>\n",
              "    .dataframe tbody tr th:only-of-type {\n",
              "        vertical-align: middle;\n",
              "    }\n",
              "\n",
              "    .dataframe tbody tr th {\n",
              "        vertical-align: top;\n",
              "    }\n",
              "\n",
              "    .dataframe thead th {\n",
              "        text-align: right;\n",
              "    }\n",
              "</style>\n",
              "<table border=\"1\" class=\"dataframe\">\n",
              "  <thead>\n",
              "    <tr style=\"text-align: right;\">\n",
              "      <th></th>\n",
              "      <th>year</th>\n",
              "      <th>rank</th>\n",
              "      <th>name</th>\n",
              "      <th>sector</th>\n",
              "      <th>industry</th>\n",
              "      <th>revenues</th>\n",
              "      <th>revchange</th>\n",
              "      <th>profits</th>\n",
              "      <th>prftchange</th>\n",
              "      <th>assets</th>\n",
              "      <th>employees</th>\n",
              "      <th>hqcity</th>\n",
              "      <th>hqstate</th>\n",
              "      <th>newcomer</th>\n",
              "      <th>profitable</th>\n",
              "      <th>ceowoman</th>\n",
              "      <th>jobgrowth</th>\n",
              "      <th>permalink</th>\n",
              "      <th>cluster</th>\n",
              "    </tr>\n",
              "  </thead>\n",
              "  <tbody>\n",
              "    <tr>\n",
              "      <th>0</th>\n",
              "      <td>2019</td>\n",
              "      <td>1.0</td>\n",
              "      <td>Walmart</td>\n",
              "      <td>Retailing</td>\n",
              "      <td>General Merchandisers</td>\n",
              "      <td>0.916379</td>\n",
              "      <td>2.8</td>\n",
              "      <td>0.225411</td>\n",
              "      <td>-32.4</td>\n",
              "      <td>219295.0</td>\n",
              "      <td>2200000</td>\n",
              "      <td>Bentonville</td>\n",
              "      <td>Arkansas</td>\n",
              "      <td>no</td>\n",
              "      <td>yes</td>\n",
              "      <td>no</td>\n",
              "      <td>no</td>\n",
              "      <td>https://fortune.com/global500/2019/walmart/</td>\n",
              "      <td>2</td>\n",
              "    </tr>\n",
              "    <tr>\n",
              "      <th>1</th>\n",
              "      <td>2019</td>\n",
              "      <td>2.0</td>\n",
              "      <td>Sinopec Group</td>\n",
              "      <td>Energy</td>\n",
              "      <td>Petroleum Refining</td>\n",
              "      <td>0.729959</td>\n",
              "      <td>26.8</td>\n",
              "      <td>0.219284</td>\n",
              "      <td>280.1</td>\n",
              "      <td>329186.3</td>\n",
              "      <td>619151</td>\n",
              "      <td>Beijing</td>\n",
              "      <td>NaN</td>\n",
              "      <td>no</td>\n",
              "      <td>yes</td>\n",
              "      <td>no</td>\n",
              "      <td>no</td>\n",
              "      <td>https://fortune.com/global500/2019/sinopec-group/</td>\n",
              "      <td>2</td>\n",
              "    </tr>\n",
              "    <tr>\n",
              "      <th>2</th>\n",
              "      <td>2019</td>\n",
              "      <td>3.0</td>\n",
              "      <td>Royal Dutch Shell</td>\n",
              "      <td>Energy</td>\n",
              "      <td>Petroleum Refining</td>\n",
              "      <td>0.696145</td>\n",
              "      <td>27.2</td>\n",
              "      <td>0.349295</td>\n",
              "      <td>79.9</td>\n",
              "      <td>399194.0</td>\n",
              "      <td>81000</td>\n",
              "      <td>The Hague</td>\n",
              "      <td>NaN</td>\n",
              "      <td>no</td>\n",
              "      <td>yes</td>\n",
              "      <td>no</td>\n",
              "      <td>no</td>\n",
              "      <td>https://fortune.com/global500/2019/royal-dutch...</td>\n",
              "      <td>2</td>\n",
              "    </tr>\n",
              "    <tr>\n",
              "      <th>3</th>\n",
              "      <td>2019</td>\n",
              "      <td>4.0</td>\n",
              "      <td>China National Petroleum</td>\n",
              "      <td>Energy</td>\n",
              "      <td>Petroleum Refining</td>\n",
              "      <td>0.689456</td>\n",
              "      <td>20.5</td>\n",
              "      <td>0.192739</td>\n",
              "      <td>NaN</td>\n",
              "      <td>601899.9</td>\n",
              "      <td>1382401</td>\n",
              "      <td>Beijing</td>\n",
              "      <td>NaN</td>\n",
              "      <td>no</td>\n",
              "      <td>yes</td>\n",
              "      <td>no</td>\n",
              "      <td>no</td>\n",
              "      <td>https://fortune.com/global500/2019/china-natio...</td>\n",
              "      <td>2</td>\n",
              "    </tr>\n",
              "    <tr>\n",
              "      <th>4</th>\n",
              "      <td>2019</td>\n",
              "      <td>5.0</td>\n",
              "      <td>State Grid</td>\n",
              "      <td>Energy</td>\n",
              "      <td>Utilities</td>\n",
              "      <td>0.678392</td>\n",
              "      <td>10.9</td>\n",
              "      <td>0.236586</td>\n",
              "      <td>-14.3</td>\n",
              "      <td>572309.5</td>\n",
              "      <td>917717</td>\n",
              "      <td>Beijing</td>\n",
              "      <td>NaN</td>\n",
              "      <td>no</td>\n",
              "      <td>yes</td>\n",
              "      <td>no</td>\n",
              "      <td>yes</td>\n",
              "      <td>https://fortune.com/global500/2019/state-grid/</td>\n",
              "      <td>2</td>\n",
              "    </tr>\n",
              "  </tbody>\n",
              "</table>\n",
              "</div>"
            ],
            "text/plain": [
              "   year  rank  ...                                          permalink cluster\n",
              "0  2019   1.0  ...        https://fortune.com/global500/2019/walmart/       2\n",
              "1  2019   2.0  ...  https://fortune.com/global500/2019/sinopec-group/       2\n",
              "2  2019   3.0  ...  https://fortune.com/global500/2019/royal-dutch...       2\n",
              "3  2019   4.0  ...  https://fortune.com/global500/2019/china-natio...       2\n",
              "4  2019   5.0  ...     https://fortune.com/global500/2019/state-grid/       2\n",
              "\n",
              "[5 rows x 19 columns]"
            ]
          },
          "metadata": {},
          "execution_count": 46
        }
      ]
    },
    {
      "cell_type": "code",
      "source": [
        "km.cluster_centers_\n"
      ],
      "metadata": {
        "colab": {
          "base_uri": "https://localhost:8080/"
        },
        "id": "ShGjbeklAyIZ",
        "outputId": "14bf2734-5e82-4a13-80ed-f1ddc3b0e4cb"
      },
      "execution_count": 47,
      "outputs": [
        {
          "output_type": "execute_result",
          "data": {
            "text/plain": [
              "array([[ 249.03386454, 2020.        ],\n",
              "       [ 416.07952286, 2020.        ],\n",
              "       [  83.        , 2020.        ]])"
            ]
          },
          "metadata": {},
          "execution_count": 47
        }
      ]
    },
    {
      "cell_type": "code",
      "source": [
        "df1 = df[df.cluster==0]\n",
        "df2 = df[df.cluster==1]\n",
        "df3 = df[df.cluster==2]\n",
        "plt.scatter(df1.year,df1['revenues'],color='green')\n",
        "plt.scatter(df2.year,df2['revenues'],color='red')\n",
        "plt.scatter(df3.year,df3['revenues'],color='black')\n",
        "plt.scatter(km.cluster_centers_[:,0],km.cluster_centers_[:,1],color='purple',marker='*',label='centroid')\n",
        "plt.xlabel('year')\n",
        "plt.ylabel('revenues')\n",
        "plt.legend()"
      ],
      "metadata": {
        "colab": {
          "base_uri": "https://localhost:8080/",
          "height": 296
        },
        "id": "tzv9CytEBQwl",
        "outputId": "64c4bafd-91c6-4291-ddb7-e6ffd1273edd"
      },
      "execution_count": 54,
      "outputs": [
        {
          "output_type": "execute_result",
          "data": {
            "text/plain": [
              "<matplotlib.legend.Legend at 0x7f54ce907b10>"
            ]
          },
          "metadata": {},
          "execution_count": 54
        },
        {
          "output_type": "display_data",
          "data": {
            "image/png": "[encoded data removed]",
            "text/plain": [
              "<Figure size 432x288 with 1 Axes>"
            ]
          },
          "metadata": {
            "needs_background": "light"
          }
        }
      ]
    },
    {
      "cell_type": "markdown",
      "source": [
        "**Elbow Plot**\n",
        "\n",
        "The technique to determine K, the number of clusters, is called the elbow method.``"
      ],
      "metadata": {
        "id": "eOk7L_dJCVzP"
      }
    },
    {
      "cell_type": "code",
      "source": [
        "sse = []\n",
        "k_rng = range(1,10)\n",
        "for k in k_rng:\n",
        "    km = KMeans(n_clusters=k)\n",
        "    km.fit(df[['rank','year']])\n",
        "    sse.append(km.inertia_)"
      ],
      "metadata": {
        "id": "1wADuZpvCLP2"
      },
      "execution_count": 55,
      "outputs": []
    },
    {
      "cell_type": "code",
      "source": [
        "plt.xlabel('K')\n",
        "plt.ylabel('Sum of squared error')\n",
        "plt.plot(k_rng,sse)"
      ],
      "metadata": {
        "colab": {
          "base_uri": "https://localhost:8080/",
          "height": 307
        },
        "id": "2vf2ASEwCTFT",
        "outputId": "2280e29a-6602-48e8-bbaf-e559fbb25fe1"
      },
      "execution_count": 56,
      "outputs": [
        {
          "output_type": "execute_result",
          "data": {
            "text/plain": [
              "[<matplotlib.lines.Line2D at 0x7f54c203acd0>]"
            ]
          },
          "metadata": {},
          "execution_count": 56
        },
        {
          "output_type": "display_data",
          "data": {
            "image/png": "[encoded data removed]",
            "text/plain": [
              "<Figure size 432x288 with 1 Axes>"
            ]
          },
          "metadata": {
            "needs_background": "light"
          }
        }
      ]
    },
    {
      "cell_type": "code",
      "source": [
        ""
      ],
      "metadata": {
        "id": "Vx3CqJwTCeGm"
      },
      "execution_count": null,
      "outputs": []
    }
  ]
}